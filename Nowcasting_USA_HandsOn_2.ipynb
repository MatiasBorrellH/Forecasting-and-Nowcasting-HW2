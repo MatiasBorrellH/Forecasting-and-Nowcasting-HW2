{
 "cells": [
  {
   "cell_type": "markdown",
   "id": "3c135aef",
   "metadata": {},
   "source": [
    "# 📈 Nowcasting US GDP Growth during COVID-19 (Lab Activity)\n",
    "\n",
    "**Objective**\n",
    "\n",
    "+ Build a model to nowcast **U.S. quarterly GDP growth** using **monthly indicators** from the FRED-MD database. \n",
    "+ Focus on the period around COVID-19 (2020) to assess how well the models capture the economic shock in real-time.\n",
    "+ The group that produces the **most accurate nowcasts (lowest RMSE)** will win.\n",
    "\n",
    "---\n",
    "\n",
    "## 📦 Data Overview\n",
    "\n",
    "### High-Frequency Predictors\n",
    "\n",
    "- **Source**: [FRED-MD](https://www.stlouisfed.org/research/economists/mccracken/fred-databases)\n",
    "- **Frequency**: Monthly\n",
    "- **Variables**: Over 100 U.S. macroeconomic series\n",
    "- **Transformations**: First row of the dataset includes codes for applying transformations:\n",
    "    - \"1\": No transformation\n",
    "    - \"2\": First difference\n",
    "    - \"5\": Log first difference, etc.\n",
    "    - (You can use the `apply_transformation()` helper function if provided)\n",
    "\n",
    "### Low-Frequency Target\n",
    "\n",
    "- **Variable**: U.S. real GDP QoQ growth (quarterly growth rate in percent). Apply transformation (5) and multiply by 100.\n",
    "- **Task**: Predict this variable using high-frequency monthly data (a mixed-frequency regression problem).\n",
    "\n",
    "---\n",
    "\n",
    "## 🎯 Forecasting Task\n",
    "\n",
    "You must produce a **rolling nowcast**:\n",
    "- **Alignment lag**: 0 (i.e., predict the current quarter using available monthly info)\n",
    "- **Start rolling**: 2016-12-01\n",
    "- **End rolling**: 2020-06-01\n",
    "\n",
    "Your submission must be a **CSV file** with the following format:\n",
    "```\n",
    "date,target,prediction\n",
    "2016-12-01,0.8,0.92\n",
    "2017-03-01,1.2,0.59\n",
    "...\n",
    "2020-06-01,-4.3,-10.23\n",
    "```\n",
    "---\n",
    "\n",
    "## 📤 Submission Instructions\n",
    "\n",
    "- Export your final predictions to CSV:\n",
    "\n",
    "```\n",
    "df_nowcast = pd.DataFrame({\n",
    "    \"date\": forecast_dates,         # datetime list or index\n",
    "    \"target\": true_values,          # actual GDP growth\n",
    "    \"prediction\": model_forecasts   # your nowcasts\n",
    "})\n",
    "df_nowcast.to_csv(\"group_name_nowcast.csv\", index=False)\n",
    "```\n",
    "- Send this CSV file to renato.vassallo@bse.eu.\n",
    "\n",
    "---\n",
    "\n",
    "## 🧪 Evaluation\n",
    "\n",
    "- Evaluation based on **RMSE** over the forecast horizon:\n",
    "    - 2016-12-01 to 2020-06-01\n",
    "- The team with the **lowest RMSE wins** 🎉\n",
    "\n",
    "---\n",
    "\n",
    "## ⏱️ Time Limit\n",
    "\n",
    "⏰ 25 minutes\n",
    "- Work in groups (up to 3 people)\n",
    "\n",
    "---\n",
    "\n",
    "## 💡 Ideas\n",
    "\n",
    "- Select variables most correlated with GDP\n",
    "- Normalize or lag variables\n",
    "- Try dimensionality reduction\n",
    "\n",
    "---\n",
    "\n",
    "Good luck 🚀"
   ]
  },
  {
   "cell_type": "markdown",
   "id": "60dba527",
   "metadata": {},
   "source": [
    "## Helper functions"
   ]
  },
  {
   "cell_type": "code",
   "execution_count": 62,
   "id": "e15c75c1",
   "metadata": {},
   "outputs": [],
   "source": [
    "import numpy as np\n",
    "import pandas as pd\n",
    "import matplotlib.pyplot as plt\n",
    "\n",
    "def apply_transformation(series, code):\n",
    "    \"\"\"\n",
    "    Apply FRED-MD transformation code to a pandas Series.\n",
    "    \"\"\"\n",
    "    if code == \"1\":\n",
    "        return series\n",
    "    elif code == \"2\":\n",
    "        return series.diff()\n",
    "    elif code == \"3\":\n",
    "        return series.diff().diff()\n",
    "    elif code == \"4\":\n",
    "        return np.log(series)\n",
    "    elif code == \"5\":\n",
    "        return np.log(series).diff()\n",
    "    elif code == \"6\":\n",
    "        return np.log(series).diff().diff()\n",
    "    elif code == \"7\":\n",
    "        return series.pct_change()\n",
    "    else:\n",
    "        return pd.Series(np.nan, index=series.index)\n",
    "    \n",
    "def keep_fully_populated_last_year(df, min_obs=12):\n",
    "    \"\"\"\n",
    "    Keep only columns (series) with at least `min_obs` non-NaN values \n",
    "    in the last 12 months of the data.\n",
    "\n",
    "    Args:\n",
    "        df (pd.DataFrame): The time series DataFrame with datetime index\n",
    "        min_obs (int): Minimum number of non-NaN observations required\n",
    "\n",
    "    Returns:\n",
    "        pd.DataFrame: Filtered DataFrame with only complete series\n",
    "    \"\"\"\n",
    "    # Define the last 12 months in the index\n",
    "    last_date = df.index.max()\n",
    "    one_year_ago = last_date - pd.DateOffset(months=11)\n",
    "\n",
    "    recent_data = df.loc[one_year_ago:last_date]\n",
    "    print(f\"Checking series completeness from {one_year_ago.date()} to {last_date.date()}\")\n",
    "\n",
    "    # Keep only columns with 12 valid values\n",
    "    valid_series = [col for col in df.columns if recent_data[col].count() == min_obs]\n",
    "\n",
    "    print(f\"Keeping {len(valid_series)} of {df.shape[1]} series with full data in last 12 months.\")\n",
    "\n",
    "    return df[valid_series]"
   ]
  },
  {
   "cell_type": "markdown",
   "id": "dec17eae",
   "metadata": {},
   "source": [
    "## Useful links"
   ]
  },
  {
   "cell_type": "code",
   "execution_count": 63,
   "id": "d2400757",
   "metadata": {},
   "outputs": [],
   "source": [
    "# Quarterly FRED-MD data URL (for target)\n",
    "url_quart = \"https://www.stlouisfed.org/-/media/project/frbstl/stlouisfed/research/fred-md/quarterly/current.csv\"\n",
    "\n",
    "y_df = pd.read_csv(url_quart)\n",
    "y_df.columns.tolist()\n",
    "\n",
    "# Monthly FRED-MD data URL (for features)\n",
    "url_month = \"https://www.stlouisfed.org/-/media/project/frbstl/stlouisfed/research/fred-md/monthly/current.csv\"\n",
    "x_df = pd.read_csv(url_month)"
   ]
  },
  {
   "cell_type": "code",
   "execution_count": 64,
   "id": "64ad1f08",
   "metadata": {},
   "outputs": [],
   "source": [
    "x_df_clean = x_df[1:].copy()\n",
    "y_df_clean = y_df[2:].copy()\n",
    "x_df_clean['date'] = pd.to_datetime(x_df_clean['sasdate'])\n",
    "y_df_clean['date'] = pd.to_datetime(y_df_clean['sasdate'])\n",
    "\n",
    "x_transform_codes = x_df.iloc[0].to_dict()\n",
    "y_transform_codes = y_df.iloc[0].to_dict()\n",
    "\n",
    "for key in x_transform_codes:\n",
    "    if isinstance(x_transform_codes[key], (int, float)):\n",
    "        x_transform_codes[key] = str(int(x_transform_codes[key]))\n",
    "        \n",
    "for key in y_transform_codes:\n",
    "    if isinstance(y_transform_codes[key], (int, float)):\n",
    "        y_transform_codes[key] = str(int(y_transform_codes[key]))"
   ]
  },
  {
   "cell_type": "code",
   "execution_count": 65,
   "id": "d37bf120",
   "metadata": {},
   "outputs": [
    {
     "name": "stdout",
     "output_type": "stream",
     "text": [
      "    sasdate       RPI   W875RX1  DPCERA3M086SBEA  CMRMTSPLx   RETAILx  \\\n",
      "1  1/1/1959       NaN       NaN              NaN        NaN       NaN   \n",
      "2  2/1/1959  0.387704  0.362081         1.034921   0.733599  0.730985   \n",
      "3  3/1/1959  0.645660  0.732484         0.940436  -0.337374  0.832120   \n",
      "4  4/1/1959  0.651034  0.702869        -0.362155   1.991538  0.061571   \n",
      "5  5/1/1959  0.579642  0.661773         1.204252   0.683884  0.780339   \n",
      "\n",
      "     INDPRO   IPFPNSS   IPFINAL   IPCONGD  ...  DSERRG3M086SBEA  \\\n",
      "1       NaN       NaN       NaN       NaN  ...              NaN   \n",
      "2  1.939488  1.340455  0.862766  0.730907  ...              NaN   \n",
      "3  1.429993  0.603599  0.489561  0.000000  ...         0.029242   \n",
      "4  2.108010  1.433943  1.454466  1.565181  ...         0.175951   \n",
      "5  1.495353  0.826659  0.958022  0.476612  ...        -0.186652   \n",
      "\n",
      "   CES0600000008  CES2000000008  CES3000000008  UMCSENTx  DTCOLNVHFNM  \\\n",
      "1            NaN            NaN            NaN       NaN          NaN   \n",
      "2            NaN            NaN            NaN       NaN          NaN   \n",
      "3      -0.002184      -0.814665       0.481883       NaN     0.492915   \n",
      "4      -0.002163       1.220345      -0.488953       NaN     1.213403   \n",
      "5      -0.002143      -0.408972      -0.481929       NaN     0.282830   \n",
      "\n",
      "   DTCTHFNM    INVEST  VIXCLSx       date  \n",
      "1       NaN       NaN      NaN 1959-01-01  \n",
      "2       NaN       NaN      NaN 1959-02-01  \n",
      "3  0.413844 -1.479236      NaN 1959-03-01  \n",
      "4  0.673430  2.492924      NaN 1959-04-01  \n",
      "5  0.202040 -1.534223      NaN 1959-05-01  \n",
      "\n",
      "[5 rows x 128 columns]\n"
     ]
    }
   ],
   "source": [
    "for col in x_df_clean.columns:\n",
    "    if col not in ['sasdate', 'date']:  \n",
    "        transform_code = x_transform_codes.get(col)  # default value is 1\n",
    "        x_df_clean[col] = x_df_clean[col].astype(float)\n",
    "        x_df_clean[col] = apply_transformation(x_df_clean[col], transform_code) # Uses the helper function to apply the corresponding transformation\n",
    "        x_df_clean[col] = x_df_clean[col] * 100 # Multiply by 100 to make it a percentage variation.\n",
    "        \n",
    "print(x_df_clean.head())"
   ]
  },
  {
   "cell_type": "code",
   "execution_count": 66,
   "id": "666d4282",
   "metadata": {},
   "outputs": [],
   "source": [
    "y_df_clean['GDP'] = apply_transformation(y_df_clean['GDPC1'].astype(float), \"5\") # Apply the corresponding transformation to the target variable (GDP)\n",
    "y_df_clean['GDP'] = y_df_clean['GDP'] * 100"
   ]
  },
  {
   "cell_type": "code",
   "execution_count": 67,
   "id": "008befa2",
   "metadata": {},
   "outputs": [],
   "source": [
    "merged_df = pd.merge(x_df_clean, y_df_clean[['date', 'GDP']], on='date', how='left')\n",
    "start_filter_date = pd.Timestamp('1995-01-01') # Adding date filters for merge. Using timestamp instead of datetime because is more efficient for single values.\n",
    "end_filter_date = pd.Timestamp('2020-06-01')\n",
    "\n",
    "merged_df = merged_df[(merged_df['date'] >= start_filter_date) & \n",
    "                         (merged_df['date'] <= end_filter_date)]"
   ]
  },
  {
   "cell_type": "code",
   "execution_count": 68,
   "id": "d424580e",
   "metadata": {},
   "outputs": [
    {
     "name": "stdout",
     "output_type": "stream",
     "text": [
      "Top 5 var\n",
      "M1SL             0.687025\n",
      "CES3000000008    0.487541\n",
      "M2SL             0.467098\n",
      "CES0600000008    0.427763\n",
      "dtype: float64\n"
     ]
    },
    {
     "data": {
      "image/png": "[encoded data removed]",
      "text/plain": [
       "<Figure size 1200x800 with 1 Axes>"
      ]
     },
     "metadata": {},
     "output_type": "display_data"
    }
   ],
   "source": [
    "start_filter_date = pd.Timestamp('2016-12-01') # Filtering dates for training.\n",
    "end_filter_date = pd.Timestamp('2020-06-01')\n",
    "\n",
    "cropped_df = merged_df[(merged_df['date'] >= start_filter_date) & \n",
    "                         (merged_df['date'] <= end_filter_date)]\n",
    "\n",
    "numeric_df = cropped_df.select_dtypes(include=['number']).drop(columns=['sasdate', 'date'], errors='ignore')\n",
    "numeric_df = numeric_df.fillna(0)\n",
    "\n",
    "\n",
    "correlations = numeric_df.corrwith(numeric_df['GDP']).sort_values(ascending=False)\n",
    "top_5_corr = correlations.iloc[1:5] # Exclude GDP itself from the top 5 (Starting index at 1)\n",
    "print(\"Top 5 var\")\n",
    "print(top_5_corr)\n",
    "\n",
    "plt.figure(figsize=(12, 8))\n",
    "top_5_corr.plot(kind='bar')\n",
    "plt.title('Top 5 vars')\n",
    "plt.xticks(rotation=45, ha='right')\n",
    "plt.tight_layout()\n",
    "plt.show()"
   ]
  },
  {
   "cell_type": "code",
   "execution_count": 69,
   "id": "a9eaed78",
   "metadata": {},
   "outputs": [],
   "source": [
    "#!pip show midas\n",
    "from MIDAS import MIDAS"
   ]
  },
  {
   "cell_type": "code",
   "execution_count": null,
   "id": "9da52466",
   "metadata": {},
   "outputs": [],
   "source": [
    "filtered_df_indexed = merged_df.copy().set_index('date')\n",
    "\n",
    "midas_model = MIDAS(low_freq_series       = filtered_df_indexed[\"GDP\"],\n",
    "                    high_freq_series_list = [filtered_df_indexed['M1SL']],\n",
    "                    hf_lags_list          = [\"3m\"], # Includes the last 3 months of the high frequency series (Because Low frequency series is quarterly, we use 3 months of high frequency data)\n",
    "                    lf_lags               = 1) # Why 1 lag, is it because we are nowcasting? Or is beca"
   ]
  },
  {
   "cell_type": "code",
   "execution_count": 71,
   "id": "8559e47d",
   "metadata": {},
   "outputs": [
    {
     "name": "stdout",
     "output_type": "stream",
     "text": [
      "Y Data (Training):\n",
      " date\n",
      "1995-06-01    0.297879\n",
      "1995-09-01    0.847127\n",
      "1995-12-01    0.676787\n",
      "1996-03-01    0.746259\n",
      "1996-06-01    1.654187\n",
      "Name: GDP, dtype: float64\n",
      "\n",
      "Y Lags (Training):\n",
      "                  GDP\n",
      "date                \n",
      "1995-06-01  0.354153\n",
      "1995-09-01  0.297879\n",
      "1995-12-01  0.847127\n",
      "1996-03-01  0.676787\n",
      "1996-06-01  0.746259\n",
      "\n",
      "HF Data (Training):\n",
      "                    0         1         2\n",
      "date                                    \n",
      "1995-06-01  0.252554 -0.575126  0.287507\n",
      "1995-09-01 -0.288551 -0.122282  0.209643\n",
      "1995-12-01 -0.301895  0.130643 -0.115127\n",
      "1996-03-01  0.811923 -0.090633  0.228261\n",
      "1996-06-01  0.624142 -0.936427 -0.170110\n",
      "\n",
      "Y Data (Test):\n",
      " date\n",
      "2016-12-01    0.552769\n",
      "2017-03-01    0.485709\n",
      "2017-06-01    0.558311\n",
      "2017-09-01    0.785432\n",
      "2017-12-01    1.120743\n",
      "Name: GDP, dtype: float64\n",
      "\n",
      "Y Lags (Test):\n",
      "                  GDP\n",
      "date                \n",
      "2016-12-01  0.706886\n",
      "2017-03-01  0.552769\n",
      "2017-06-01  0.485709\n",
      "2017-09-01  0.558311\n",
      "2017-12-01  0.785432\n",
      "\n",
      "HF Data (Test):\n",
      "                    0         1         2\n",
      "date                                    \n",
      "2016-12-01 -0.502961  0.079314  0.107399\n",
      "2017-03-01  1.019874 -1.275215  1.643245\n",
      "2017-06-01 -1.597159  1.853432 -1.374726\n",
      "2017-09-01 -1.505486  0.407812  0.369606\n",
      "2017-12-01 -0.760839 -0.623556  1.633952\n"
     ]
    }
   ],
   "source": [
    "from datetime import datetime\n",
    "\n",
    "# Prepare the data (optional, just to inspect the structure)\n",
    "result = midas_model.prepare_data(alignment_lag = 0, # Lag of 0 to do nowcasting.\n",
    "                                  start_date    = datetime(1995, 3, 1), # training start date.\n",
    "                                  end_date      = datetime(2016, 12, 1)) # training end date.\n",
    "\n",
    "# Display results\n",
    "print(\"Y Data (Training):\\n\",    result[\"y_train\"].head())\n",
    "print(\"\\nY Lags (Training):\\n\",  result[\"y_train_lags\"].head())\n",
    "print(\"\\nHF Data (Training):\\n\", result[\"x_train_list\"][0].head())\n",
    "print(\"\\nY Data (Test):\\n\",      result[\"y_forecast_target\"].head())\n",
    "print(\"\\nY Lags (Test):\\n\",      result[\"y_forecast_lags\"].head())\n",
    "print(\"\\nHF Data (Test):\\n\",     result[\"x_forecast_list\"][0].head())"
   ]
  },
  {
   "cell_type": "code",
   "execution_count": 72,
   "id": "1ce2ef5b",
   "metadata": {},
   "outputs": [
    {
     "data": {
      "text/plain": [
       "array([ 0.45687779, -0.41582315,  2.88941994, -0.97522741,  0.32964485])"
      ]
     },
     "execution_count": 72,
     "metadata": {},
     "output_type": "execute_result"
    }
   ],
   "source": [
    "# Fit the model\n",
    "opt_res = midas_model.fit(data_dict = result, \n",
    "\t\t\t\t\t\t poly_list=[\"expalmon\"])\n",
    "\n",
    "# Extract fitted parameters\n",
    "opt_res.x"
   ]
  },
  {
   "cell_type": "code",
   "execution_count": 73,
   "id": "f3707b4d",
   "metadata": {},
   "outputs": [
    {
     "data": {
      "image/png": "[encoded data removed]",
      "text/plain": [
       "<Figure size 500x300 with 1 Axes>"
      ]
     },
     "metadata": {},
     "output_type": "display_data"
    }
   ],
   "source": [
    "from MIDAS import ExpAlmonWeights\n",
    "\n",
    "expalmon = ExpAlmonWeights()\n",
    "theta_exp_almon = opt_res.x[2:4]  # assuming [theta1, theta2] are at positions 2 and 3\n",
    "expalmon.theta = theta_exp_almon\n",
    "nlags = 3  \n",
    "weights = expalmon.weights(nlags)\n",
    "\n",
    "# Plot\n",
    "plt.figure(figsize=(5, 3))\n",
    "plt.stem(range(1, nlags + 1), weights)\n",
    "plt.title('ExpAlmon Polynomial Weights')\n",
    "plt.xlabel('Lag')\n",
    "plt.ylabel('Weight')\n",
    "plt.grid(True)\n",
    "plt.tight_layout()\n",
    "plt.show()"
   ]
  },
  {
   "cell_type": "code",
   "execution_count": 74,
   "id": "4499e297",
   "metadata": {},
   "outputs": [
    {
     "data": {
      "application/vnd.microsoft.datawrangler.viewer.v0+json": {
       "columns": [
        {
         "name": "date",
         "rawType": "datetime64[ns]",
         "type": "datetime"
        },
        {
         "name": "y_target",
         "rawType": "float64",
         "type": "float"
        },
        {
         "name": "y_nowcast",
         "rawType": "float64",
         "type": "float"
        }
       ],
       "ref": "884f65fd-a352-41fa-97ec-b721b9906046",
       "rows": [
        [
         "2016-12-01 00:00:00",
         "0.5527685286210726",
         "0.7716628384088144"
        ],
        [
         "2017-03-01 00:00:00",
         "0.48570873310360696",
         "0.6376255044066962"
        ],
        [
         "2017-06-01 00:00:00",
         "0.5583111012978037",
         "0.6153144024865596"
        ],
        [
         "2017-09-01 00:00:00",
         "0.785431525684821",
         "0.8518063232462809"
        ],
        [
         "2017-12-01 00:00:00",
         "1.1207427769393874",
         "0.9430906034331867"
        ],
        [
         "2018-03-01 00:00:00",
         "0.8101194549169577",
         "0.7723614398089667"
        ],
        [
         "2018-06-01 00:00:00",
         "0.5294212303768475",
         "0.7391174364100631"
        ],
        [
         "2018-09-01 00:00:00",
         "0.621760482522582",
         "0.6933600260873438"
        ],
        [
         "2018-12-01 00:00:00",
         "0.14154399831838305",
         "0.4492594571677364"
        ],
        [
         "2019-03-01 00:00:00",
         "0.6223772907267389",
         "0.6459702260599817"
        ],
        [
         "2019-06-01 00:00:00",
         "0.8316777932895647",
         "0.6477141430346642"
        ],
        [
         "2019-09-01 00:00:00",
         "1.1632102580909631",
         "0.6478304810843576"
        ],
        [
         "2019-12-01 00:00:00",
         "0.6795635968053659",
         "0.7068593930105378"
        ],
        [
         "2020-03-01 00:00:00",
         "-1.4022264902518344",
         "-0.6072241380928088"
        ],
        [
         "2020-06-01 00:00:00",
         "-8.239258989513054",
         "2.5930624786134286"
        ]
       ],
       "shape": {
        "columns": 2,
        "rows": 15
       }
      },
      "text/html": [
       "<div>\n",
       "<style scoped>\n",
       "    .dataframe tbody tr th:only-of-type {\n",
       "        vertical-align: middle;\n",
       "    }\n",
       "\n",
       "    .dataframe tbody tr th {\n",
       "        vertical-align: top;\n",
       "    }\n",
       "\n",
       "    .dataframe thead th {\n",
       "        text-align: right;\n",
       "    }\n",
       "</style>\n",
       "<table border=\"1\" class=\"dataframe\">\n",
       "  <thead>\n",
       "    <tr style=\"text-align: right;\">\n",
       "      <th></th>\n",
       "      <th>y_target</th>\n",
       "      <th>y_nowcast</th>\n",
       "    </tr>\n",
       "    <tr>\n",
       "      <th>date</th>\n",
       "      <th></th>\n",
       "      <th></th>\n",
       "    </tr>\n",
       "  </thead>\n",
       "  <tbody>\n",
       "    <tr>\n",
       "      <th>2016-12-01</th>\n",
       "      <td>0.552769</td>\n",
       "      <td>0.771663</td>\n",
       "    </tr>\n",
       "    <tr>\n",
       "      <th>2017-03-01</th>\n",
       "      <td>0.485709</td>\n",
       "      <td>0.637626</td>\n",
       "    </tr>\n",
       "    <tr>\n",
       "      <th>2017-06-01</th>\n",
       "      <td>0.558311</td>\n",
       "      <td>0.615314</td>\n",
       "    </tr>\n",
       "    <tr>\n",
       "      <th>2017-09-01</th>\n",
       "      <td>0.785432</td>\n",
       "      <td>0.851806</td>\n",
       "    </tr>\n",
       "    <tr>\n",
       "      <th>2017-12-01</th>\n",
       "      <td>1.120743</td>\n",
       "      <td>0.943091</td>\n",
       "    </tr>\n",
       "    <tr>\n",
       "      <th>2018-03-01</th>\n",
       "      <td>0.810119</td>\n",
       "      <td>0.772361</td>\n",
       "    </tr>\n",
       "    <tr>\n",
       "      <th>2018-06-01</th>\n",
       "      <td>0.529421</td>\n",
       "      <td>0.739117</td>\n",
       "    </tr>\n",
       "    <tr>\n",
       "      <th>2018-09-01</th>\n",
       "      <td>0.621760</td>\n",
       "      <td>0.693360</td>\n",
       "    </tr>\n",
       "    <tr>\n",
       "      <th>2018-12-01</th>\n",
       "      <td>0.141544</td>\n",
       "      <td>0.449259</td>\n",
       "    </tr>\n",
       "    <tr>\n",
       "      <th>2019-03-01</th>\n",
       "      <td>0.622377</td>\n",
       "      <td>0.645970</td>\n",
       "    </tr>\n",
       "    <tr>\n",
       "      <th>2019-06-01</th>\n",
       "      <td>0.831678</td>\n",
       "      <td>0.647714</td>\n",
       "    </tr>\n",
       "    <tr>\n",
       "      <th>2019-09-01</th>\n",
       "      <td>1.163210</td>\n",
       "      <td>0.647830</td>\n",
       "    </tr>\n",
       "    <tr>\n",
       "      <th>2019-12-01</th>\n",
       "      <td>0.679564</td>\n",
       "      <td>0.706859</td>\n",
       "    </tr>\n",
       "    <tr>\n",
       "      <th>2020-03-01</th>\n",
       "      <td>-1.402226</td>\n",
       "      <td>-0.607224</td>\n",
       "    </tr>\n",
       "    <tr>\n",
       "      <th>2020-06-01</th>\n",
       "      <td>-8.239259</td>\n",
       "      <td>2.593062</td>\n",
       "    </tr>\n",
       "  </tbody>\n",
       "</table>\n",
       "</div>"
      ],
      "text/plain": [
       "            y_target  y_nowcast\n",
       "date                           \n",
       "2016-12-01  0.552769   0.771663\n",
       "2017-03-01  0.485709   0.637626\n",
       "2017-06-01  0.558311   0.615314\n",
       "2017-09-01  0.785432   0.851806\n",
       "2017-12-01  1.120743   0.943091\n",
       "2018-03-01  0.810119   0.772361\n",
       "2018-06-01  0.529421   0.739117\n",
       "2018-09-01  0.621760   0.693360\n",
       "2018-12-01  0.141544   0.449259\n",
       "2019-03-01  0.622377   0.645970\n",
       "2019-06-01  0.831678   0.647714\n",
       "2019-09-01  1.163210   0.647830\n",
       "2019-12-01  0.679564   0.706859\n",
       "2020-03-01 -1.402226  -0.607224\n",
       "2020-06-01 -8.239259   2.593062"
      ]
     },
     "execution_count": 74,
     "metadata": {},
     "output_type": "execute_result"
    }
   ],
   "source": [
    "# Nowcast the low-frequency series\n",
    "pred = midas_model.predict(data_dict = result)\n",
    "\n",
    "# Join predictions\n",
    "y_target_df = result[\"y_forecast_target\"].to_frame(name=\"y_target\")\n",
    "forecast_df = y_target_df.join(pred)\n",
    "forecast_df.columns = ['y_target', 'y_nowcast']\n",
    "forecast_df"
   ]
  },
  {
   "cell_type": "code",
   "execution_count": 75,
   "id": "474687cc",
   "metadata": {},
   "outputs": [
    {
     "name": "stdout",
     "output_type": "stream",
     "text": [
      "Rolling window end = 2016-12-01 00:00:00 | Forecast horizon = 0\n",
      "Rolling window end = 2017-03-01 00:00:00 | Forecast horizon = 0\n",
      "Rolling window end = 2017-06-01 00:00:00 | Forecast horizon = 0\n",
      "Rolling window end = 2017-09-01 00:00:00 | Forecast horizon = 0\n",
      "Rolling window end = 2017-12-01 00:00:00 | Forecast horizon = 0\n",
      "Rolling window end = 2018-03-01 00:00:00 | Forecast horizon = 0\n",
      "Rolling window end = 2018-06-01 00:00:00 | Forecast horizon = 0\n",
      "Rolling window end = 2018-09-01 00:00:00 | Forecast horizon = 0\n",
      "Rolling window end = 2018-12-01 00:00:00 | Forecast horizon = 0\n",
      "Rolling window end = 2019-03-01 00:00:00 | Forecast horizon = 0\n",
      "Rolling window end = 2019-06-01 00:00:00 | Forecast horizon = 0\n",
      "Rolling window end = 2019-09-01 00:00:00 | Forecast horizon = 0\n",
      "Rolling window end = 2019-12-01 00:00:00 | Forecast horizon = 0\n",
      "Rolling window end = 2020-03-01 00:00:00 | Forecast horizon = 0\n",
      "Rolling window end = 2020-06-01 00:00:00 | Forecast horizon = 0\n",
      "\n",
      "✅ Final RMSE: 0.2530\n"
     ]
    },
    {
     "data": {
      "application/vnd.microsoft.datawrangler.viewer.v0+json": {
       "columns": [
        {
         "name": "index",
         "rawType": "datetime64[ns]",
         "type": "datetime"
        },
        {
         "name": "preds",
         "rawType": "float64",
         "type": "float"
        },
        {
         "name": "targets",
         "rawType": "float64",
         "type": "float"
        }
       ],
       "ref": "460f998b-7a80-4a4d-9dfc-1470d23b5bc6",
       "rows": [
        [
         "2016-12-01 00:00:00",
         "0.7716628384088144",
         "0.5527685286210726"
        ],
        [
         "2017-03-01 00:00:00",
         "0.6313280912157774",
         "0.48570873310360696"
        ],
        [
         "2017-06-01 00:00:00",
         "0.6148589004988569",
         "0.5583111012978037"
        ],
        [
         "2017-09-01 00:00:00",
         "0.8468328689445916",
         "0.785431525684821"
        ],
        [
         "2017-12-01 00:00:00",
         "0.9434892108413444",
         "1.1207427769393874"
        ],
        [
         "2018-03-01 00:00:00",
         "0.7742735042790374",
         "0.8101194549169577"
        ],
        [
         "2018-06-01 00:00:00",
         "0.7319847384656502",
         "0.5294212303768475"
        ],
        [
         "2018-09-01 00:00:00",
         "0.6908499334274992",
         "0.621760482522582"
        ],
        [
         "2018-12-01 00:00:00",
         "0.43410175187302136",
         "0.14154399831838305"
        ],
        [
         "2019-03-01 00:00:00",
         "0.6394749598848762",
         "0.6223772907267389"
        ],
        [
         "2019-06-01 00:00:00",
         "0.6470052632541599",
         "0.8316777932895647"
        ],
        [
         "2019-09-01 00:00:00",
         "0.6526873349652246",
         "1.1632102580909631"
        ],
        [
         "2019-12-01 00:00:00",
         "0.7094169853733003",
         "0.6795635968053659"
        ],
        [
         "2020-03-01 00:00:00",
         "-0.8616513009753581",
         "-1.4022264902518344"
        ],
        [
         "2020-06-01 00:00:00",
         "-7.876571567710377",
         "-8.239258989513054"
        ]
       ],
       "shape": {
        "columns": 2,
        "rows": 15
       }
      },
      "text/html": [
       "<div>\n",
       "<style scoped>\n",
       "    .dataframe tbody tr th:only-of-type {\n",
       "        vertical-align: middle;\n",
       "    }\n",
       "\n",
       "    .dataframe tbody tr th {\n",
       "        vertical-align: top;\n",
       "    }\n",
       "\n",
       "    .dataframe thead th {\n",
       "        text-align: right;\n",
       "    }\n",
       "</style>\n",
       "<table border=\"1\" class=\"dataframe\">\n",
       "  <thead>\n",
       "    <tr style=\"text-align: right;\">\n",
       "      <th></th>\n",
       "      <th>preds</th>\n",
       "      <th>targets</th>\n",
       "    </tr>\n",
       "  </thead>\n",
       "  <tbody>\n",
       "    <tr>\n",
       "      <th>2016-12-01</th>\n",
       "      <td>0.771663</td>\n",
       "      <td>0.552769</td>\n",
       "    </tr>\n",
       "    <tr>\n",
       "      <th>2017-03-01</th>\n",
       "      <td>0.631328</td>\n",
       "      <td>0.485709</td>\n",
       "    </tr>\n",
       "    <tr>\n",
       "      <th>2017-06-01</th>\n",
       "      <td>0.614859</td>\n",
       "      <td>0.558311</td>\n",
       "    </tr>\n",
       "    <tr>\n",
       "      <th>2017-09-01</th>\n",
       "      <td>0.846833</td>\n",
       "      <td>0.785432</td>\n",
       "    </tr>\n",
       "    <tr>\n",
       "      <th>2017-12-01</th>\n",
       "      <td>0.943489</td>\n",
       "      <td>1.120743</td>\n",
       "    </tr>\n",
       "    <tr>\n",
       "      <th>2018-03-01</th>\n",
       "      <td>0.774274</td>\n",
       "      <td>0.810119</td>\n",
       "    </tr>\n",
       "    <tr>\n",
       "      <th>2018-06-01</th>\n",
       "      <td>0.731985</td>\n",
       "      <td>0.529421</td>\n",
       "    </tr>\n",
       "    <tr>\n",
       "      <th>2018-09-01</th>\n",
       "      <td>0.690850</td>\n",
       "      <td>0.621760</td>\n",
       "    </tr>\n",
       "    <tr>\n",
       "      <th>2018-12-01</th>\n",
       "      <td>0.434102</td>\n",
       "      <td>0.141544</td>\n",
       "    </tr>\n",
       "    <tr>\n",
       "      <th>2019-03-01</th>\n",
       "      <td>0.639475</td>\n",
       "      <td>0.622377</td>\n",
       "    </tr>\n",
       "    <tr>\n",
       "      <th>2019-06-01</th>\n",
       "      <td>0.647005</td>\n",
       "      <td>0.831678</td>\n",
       "    </tr>\n",
       "    <tr>\n",
       "      <th>2019-09-01</th>\n",
       "      <td>0.652687</td>\n",
       "      <td>1.163210</td>\n",
       "    </tr>\n",
       "    <tr>\n",
       "      <th>2019-12-01</th>\n",
       "      <td>0.709417</td>\n",
       "      <td>0.679564</td>\n",
       "    </tr>\n",
       "    <tr>\n",
       "      <th>2020-03-01</th>\n",
       "      <td>-0.861651</td>\n",
       "      <td>-1.402226</td>\n",
       "    </tr>\n",
       "    <tr>\n",
       "      <th>2020-06-01</th>\n",
       "      <td>-7.876572</td>\n",
       "      <td>-8.239259</td>\n",
       "    </tr>\n",
       "  </tbody>\n",
       "</table>\n",
       "</div>"
      ],
      "text/plain": [
       "               preds   targets\n",
       "2016-12-01  0.771663  0.552769\n",
       "2017-03-01  0.631328  0.485709\n",
       "2017-06-01  0.614859  0.558311\n",
       "2017-09-01  0.846833  0.785432\n",
       "2017-12-01  0.943489  1.120743\n",
       "2018-03-01  0.774274  0.810119\n",
       "2018-06-01  0.731985  0.529421\n",
       "2018-09-01  0.690850  0.621760\n",
       "2018-12-01  0.434102  0.141544\n",
       "2019-03-01  0.639475  0.622377\n",
       "2019-06-01  0.647005  0.831678\n",
       "2019-09-01  0.652687  1.163210\n",
       "2019-12-01  0.709417  0.679564\n",
       "2020-03-01 -0.861651 -1.402226\n",
       "2020-06-01 -7.876572 -8.239259"
      ]
     },
     "execution_count": 75,
     "metadata": {},
     "output_type": "execute_result"
    }
   ],
   "source": [
    "df_rolling, rmse = midas_model.rolling_forecast(start_date = datetime(1995, 3, 1),\n",
    "                                                end_date   = datetime(2016, 12, 1),\n",
    "                                                alignment_lag = 0,\n",
    "                                                poly_list = [\"expalmon\"],\n",
    "                                                verbose = True)\n",
    "df_rolling"
   ]
  },
  {
   "cell_type": "code",
   "execution_count": 76,
   "id": "bca26418",
   "metadata": {},
   "outputs": [
    {
     "data": {
      "image/png": "[encoded data removed]",
      "text/plain": [
       "<Figure size 1000x400 with 1 Axes>"
      ]
     },
     "metadata": {},
     "output_type": "display_data"
    }
   ],
   "source": [
    "# Plot the predictions\n",
    "import matplotlib.pyplot as plt\n",
    "plt.figure(figsize=(10, 4))\n",
    "plt.plot(df_rolling.index, df_rolling[\"targets\"], label=\"Target\", color='navy', marker='o')\n",
    "plt.plot(df_rolling.index, df_rolling[\"preds\"], label=\"Forecast\", color='darkred', marker='x', linestyle='-.')\n",
    "plt.title(\"MIDAS rolling forecast\")\n",
    "plt.xlabel(\"Date\")\n",
    "plt.ylabel(\"GDP YoY\")\n",
    "plt.legend()\n",
    "plt.grid()\n",
    "plt.show()"
   ]
  },
  {
   "cell_type": "code",
   "execution_count": 77,
   "id": "d2284451",
   "metadata": {},
   "outputs": [],
   "source": [
    "mod1 = MIDAS(low_freq_series       = filtered_df_indexed[\"GDP\"],\n",
    "             high_freq_series_list = [filtered_df_indexed[\"M1SL\"]],\n",
    "             hf_lags_list          = [\"3m\"], \n",
    "             lf_lags               = 1)\n",
    "\n",
    "df1, rmse1 = mod1.rolling_forecast(start_date = datetime(1995, 3, 1),\n",
    "                                   end_date   = datetime(2016, 12, 1),\n",
    "                                   alignment_lag = 0,\n",
    "                                   poly_list = [\"expalmon\"],\n",
    "                                   verbose = False)"
   ]
  },
  {
   "cell_type": "code",
   "execution_count": 78,
   "id": "3bb047ed",
   "metadata": {},
   "outputs": [],
   "source": [
    "mod2 = MIDAS(low_freq_series       = filtered_df_indexed[\"GDP\"],\n",
    "             high_freq_series_list = [filtered_df_indexed[\"M1SL\"], filtered_df_indexed[\"CES3000000008\"]],\n",
    "             hf_lags_list          = [\"3m\", \"3m\"], \n",
    "             lf_lags               = 1)\n",
    "\n",
    "df2, rmse2 = mod2.rolling_forecast(start_date = datetime(1995, 3, 1),\n",
    "                                   end_date   = datetime(2016, 12, 1),\n",
    "                                   alignment_lag = 0,\n",
    "                                   poly_list = [\"expalmon\", \"expalmon\"],\n",
    "                                   verbose = False)"
   ]
  },
  {
   "cell_type": "code",
   "execution_count": 79,
   "id": "3831ff80",
   "metadata": {},
   "outputs": [],
   "source": [
    "mod3 = MIDAS(low_freq_series       = filtered_df_indexed[\"GDP\"],\n",
    "             high_freq_series_list = [filtered_df_indexed[\"M1SL\"], filtered_df_indexed[\"M2SL\"]],\n",
    "             hf_lags_list          = [\"3m\", \"3m\"], \n",
    "             lf_lags               = 1)\n",
    "\n",
    "df3, rmse3 = mod3.rolling_forecast(start_date = datetime(1995, 3, 1),\n",
    "                                   end_date   = datetime(2016, 12, 1),\n",
    "                                   alignment_lag = 0,\n",
    "                                   poly_list = [\"expalmon\", \"expalmon\"],\n",
    "                                   verbose = False)"
   ]
  },
  {
   "cell_type": "code",
   "execution_count": 80,
   "id": "56a51073",
   "metadata": {},
   "outputs": [],
   "source": [
    "mod4 = MIDAS(low_freq_series       = filtered_df_indexed[\"GDP\"],\n",
    "             high_freq_series_list = [filtered_df_indexed[\"M1SL\"], filtered_df_indexed[\"CES3000000008\"], filtered_df_indexed[\"M2SL\"]],\n",
    "             hf_lags_list          = [\"3m\", \"3m\", \"3m\"], \n",
    "             lf_lags               = 1)\n",
    "df4, rmse4 = mod4.rolling_forecast(start_date = datetime(1995, 3, 1),\n",
    "                                   end_date   = datetime(2016, 12, 1),\n",
    "                                   alignment_lag = 0,\n",
    "                                   poly_list = [\"expalmon\", \"expalmon\", \"expalmon\"],\n",
    "                                   verbose = False)"
   ]
  },
  {
   "cell_type": "code",
   "execution_count": 81,
   "id": "52745568",
   "metadata": {},
   "outputs": [
    {
     "data": {
      "image/png": "[encoded data removed]",
      "text/plain": [
       "<Figure size 600x400 with 1 Axes>"
      ]
     },
     "metadata": {},
     "output_type": "display_data"
    },
    {
     "data": {
      "application/vnd.microsoft.datawrangler.viewer.v0+json": {
       "columns": [
        {
         "name": "Model",
         "rawType": "object",
         "type": "string"
        },
        {
         "name": "RMSE",
         "rawType": "float64",
         "type": "float"
        }
       ],
       "ref": "2d90dcc9-4090-43bf-bb3e-19f1a6dddaab",
       "rows": [
        [
         "M1SL",
         "0.25296527754041626"
        ],
        [
         "M1SL + CES3000000008",
         "0.24510504287202853"
        ],
        [
         "M1SL + M2SL",
         "0.19752280063646313"
        ],
        [
         "M1SL + M2SL + CES3000000008",
         "0.20159158548049141"
        ]
       ],
       "shape": {
        "columns": 1,
        "rows": 4
       }
      },
      "text/html": [
       "<div>\n",
       "<style scoped>\n",
       "    .dataframe tbody tr th:only-of-type {\n",
       "        vertical-align: middle;\n",
       "    }\n",
       "\n",
       "    .dataframe tbody tr th {\n",
       "        vertical-align: top;\n",
       "    }\n",
       "\n",
       "    .dataframe thead th {\n",
       "        text-align: right;\n",
       "    }\n",
       "</style>\n",
       "<table border=\"1\" class=\"dataframe\">\n",
       "  <thead>\n",
       "    <tr style=\"text-align: right;\">\n",
       "      <th></th>\n",
       "      <th>RMSE</th>\n",
       "    </tr>\n",
       "    <tr>\n",
       "      <th>Model</th>\n",
       "      <th></th>\n",
       "    </tr>\n",
       "  </thead>\n",
       "  <tbody>\n",
       "    <tr>\n",
       "      <th>M1SL</th>\n",
       "      <td>0.252965</td>\n",
       "    </tr>\n",
       "    <tr>\n",
       "      <th>M1SL + CES3000000008</th>\n",
       "      <td>0.245105</td>\n",
       "    </tr>\n",
       "    <tr>\n",
       "      <th>M1SL + M2SL</th>\n",
       "      <td>0.197523</td>\n",
       "    </tr>\n",
       "    <tr>\n",
       "      <th>M1SL + M2SL + CES3000000008</th>\n",
       "      <td>0.201592</td>\n",
       "    </tr>\n",
       "  </tbody>\n",
       "</table>\n",
       "</div>"
      ],
      "text/plain": [
       "                                 RMSE\n",
       "Model                                \n",
       "M1SL                         0.252965\n",
       "M1SL + CES3000000008         0.245105\n",
       "M1SL + M2SL                  0.197523\n",
       "M1SL + M2SL + CES3000000008  0.201592"
      ]
     },
     "execution_count": 81,
     "metadata": {},
     "output_type": "execute_result"
    }
   ],
   "source": [
    "# Compare RMSE values\n",
    "rmse_df = pd.DataFrame({\n",
    "    'Model': ['M1SL', 'M1SL + CES3000000008', 'M1SL + M2SL', 'M1SL + M2SL + CES3000000008'],\n",
    "    'RMSE': [rmse1, rmse2, rmse3, rmse4]\n",
    "})\n",
    "rmse_df.set_index('Model', inplace=True)\n",
    "rmse_df.plot(kind='bar', figsize=(6, 4), legend=False)\n",
    "plt.title('RMSE Comparison of MIDAS Models')\n",
    "plt.ylabel('RMSE')\n",
    "plt.xticks(rotation=0)\n",
    "plt.tight_layout()\n",
    "plt.show()\n",
    "\n",
    "rmse_df"
   ]
  },
  {
   "cell_type": "code",
   "execution_count": 82,
   "id": "faf69fc5",
   "metadata": {},
   "outputs": [
    {
     "ename": "ModuleNotFoundError",
     "evalue": "No module named 'midas'",
     "output_type": "error",
     "traceback": [
      "\u001b[31m---------------------------------------------------------------------------\u001b[39m",
      "\u001b[31mModuleNotFoundError\u001b[39m                       Traceback (most recent call last)",
      "\u001b[36mCell\u001b[39m\u001b[36m \u001b[39m\u001b[32mIn[82]\u001b[39m\u001b[32m, line 1\u001b[39m\n\u001b[32m----> \u001b[39m\u001b[32m1\u001b[39m \u001b[38;5;28;01mfrom\u001b[39;00m\u001b[38;5;250m \u001b[39m\u001b[34;01mmidas\u001b[39;00m\u001b[38;5;250m \u001b[39m\u001b[38;5;28;01mimport\u001b[39;00m midas_compare\n\u001b[32m      3\u001b[39m models = [\n\u001b[32m      4\u001b[39m     {\u001b[33m\"\u001b[39m\u001b[33mname\u001b[39m\u001b[33m\"\u001b[39m: \u001b[33m\"\u001b[39m\u001b[33mM1SL\u001b[39m\u001b[33m\"\u001b[39m, \u001b[33m\"\u001b[39m\u001b[33mhigh_freq_series\u001b[39m\u001b[33m\"\u001b[39m: [filtered_df_indexed[\u001b[33m\"\u001b[39m\u001b[33mM1SL\u001b[39m\u001b[33m\"\u001b[39m]], \u001b[33m\"\u001b[39m\u001b[33mpolys\u001b[39m\u001b[33m\"\u001b[39m: [\u001b[33m\"\u001b[39m\u001b[33mexpalmon\u001b[39m\u001b[33m\"\u001b[39m]},\n\u001b[32m      5\u001b[39m     {\u001b[33m\"\u001b[39m\u001b[33mname\u001b[39m\u001b[33m\"\u001b[39m: \u001b[33m\"\u001b[39m\u001b[33mM1SL + CES3000000008\u001b[39m\u001b[33m\"\u001b[39m, \u001b[33m\"\u001b[39m\u001b[33mhigh_freq_series\u001b[39m\u001b[33m\"\u001b[39m: [filtered_df_indexed[\u001b[33m\"\u001b[39m\u001b[33mM1SL\u001b[39m\u001b[33m\"\u001b[39m], filtered_df_indexed[\u001b[33m\"\u001b[39m\u001b[33mCES3000000008\u001b[39m\u001b[33m\"\u001b[39m]], \u001b[33m\"\u001b[39m\u001b[33mpolys\u001b[39m\u001b[33m\"\u001b[39m: [\u001b[33m\"\u001b[39m\u001b[33mexpalmon\u001b[39m\u001b[33m\"\u001b[39m, \u001b[33m\"\u001b[39m\u001b[33mexpalmon\u001b[39m\u001b[33m\"\u001b[39m]},\n\u001b[32m      6\u001b[39m     {\u001b[33m\"\u001b[39m\u001b[33mname\u001b[39m\u001b[33m\"\u001b[39m: \u001b[33m\"\u001b[39m\u001b[33mM1SL + M2SL\u001b[39m\u001b[33m\"\u001b[39m, \u001b[33m\"\u001b[39m\u001b[33mhigh_freq_series\u001b[39m\u001b[33m\"\u001b[39m: [filtered_df_indexed[\u001b[33m\"\u001b[39m\u001b[33mM1SL\u001b[39m\u001b[33m\"\u001b[39m], filtered_df_indexed[\u001b[33m\"\u001b[39m\u001b[33mM2SL\u001b[39m\u001b[33m\"\u001b[39m]], \u001b[33m\"\u001b[39m\u001b[33mpolys\u001b[39m\u001b[33m\"\u001b[39m: [\u001b[33m\"\u001b[39m\u001b[33mexpalmon\u001b[39m\u001b[33m\"\u001b[39m, \u001b[33m\"\u001b[39m\u001b[33mexpalmon\u001b[39m\u001b[33m\"\u001b[39m]},\n\u001b[32m      7\u001b[39m     {\u001b[33m\"\u001b[39m\u001b[33mname\u001b[39m\u001b[33m\"\u001b[39m: \u001b[33m\"\u001b[39m\u001b[33mM1SL + CES3000000008 + M2SL\u001b[39m\u001b[33m\"\u001b[39m, \u001b[33m\"\u001b[39m\u001b[33mhigh_freq_series\u001b[39m\u001b[33m\"\u001b[39m: [filtered_df_indexed[\u001b[33m\"\u001b[39m\u001b[33mM1SL\u001b[39m\u001b[33m\"\u001b[39m], filtered_df_indexed[\u001b[33m\"\u001b[39m\u001b[33mM2SL\u001b[39m\u001b[33m\"\u001b[39m], filtered_df_indexed[\u001b[33m\"\u001b[39m\u001b[33mCES3000000008\u001b[39m\u001b[33m\"\u001b[39m]], \u001b[33m\"\u001b[39m\u001b[33mpolys\u001b[39m\u001b[33m\"\u001b[39m: [\u001b[33m\"\u001b[39m\u001b[33mexpalmon\u001b[39m\u001b[33m\"\u001b[39m, \u001b[33m\"\u001b[39m\u001b[33mexpalmon\u001b[39m\u001b[33m\"\u001b[39m, \u001b[33m\"\u001b[39m\u001b[33mexpalmon\u001b[39m\u001b[33m\"\u001b[39m]},\n\u001b[32m      8\u001b[39m ]\n\u001b[32m     10\u001b[39m results = midas_compare(\n\u001b[32m     11\u001b[39m     low_freq_series=filtered_df_indexed[\u001b[33m\"\u001b[39m\u001b[33mGDP\u001b[39m\u001b[33m\"\u001b[39m],\n\u001b[32m     12\u001b[39m     model_specs=models,\n\u001b[32m   (...)\u001b[39m\u001b[32m     18\u001b[39m     plot_forecasts=\u001b[38;5;28;01mTrue\u001b[39;00m\n\u001b[32m     19\u001b[39m )\n",
      "\u001b[31mModuleNotFoundError\u001b[39m: No module named 'midas'"
     ]
    }
   ],
   "source": [
    "from midas import midas_compare\n",
    "\n",
    "models = [\n",
    "    {\"name\": \"M1SL\", \"high_freq_series\": [filtered_df_indexed[\"M1SL\"]], \"polys\": [\"expalmon\"]},\n",
    "    {\"name\": \"M1SL + CES3000000008\", \"high_freq_series\": [filtered_df_indexed[\"M1SL\"], filtered_df_indexed[\"CES3000000008\"]], \"polys\": [\"expalmon\", \"expalmon\"]},\n",
    "    {\"name\": \"M1SL + M2SL\", \"high_freq_series\": [filtered_df_indexed[\"M1SL\"], filtered_df_indexed[\"M2SL\"]], \"polys\": [\"expalmon\", \"expalmon\"]},\n",
    "    {\"name\": \"M1SL + CES3000000008 + M2SL\", \"high_freq_series\": [filtered_df_indexed[\"M1SL\"], filtered_df_indexed[\"M2SL\"], filtered_df_indexed[\"CES3000000008\"]], \"polys\": [\"expalmon\", \"expalmon\", \"expalmon\"]},\n",
    "]\n",
    "\n",
    "results = midas_compare(\n",
    "    low_freq_series=filtered_df_indexed[\"GDP\"],\n",
    "    model_specs=models,\n",
    "    hf_lags=[\"3m\", \"3m\", \"3m\", \"3m\"],  \n",
    "    lf_lags=1,\n",
    "    alignment_lag=0,\n",
    "    start_date=datetime(1995, 3, 1),\n",
    "    end_date=datetime(2016, 12, 1),\n",
    "    plot_forecasts=True\n",
    ")"
   ]
  },
  {
   "cell_type": "code",
   "execution_count": null,
   "id": "d3b60cb6",
   "metadata": {},
   "outputs": [],
   "source": [
    "submission_df = pd.DataFrame({\n",
    "    \"date\": df3.index,\n",
    "    \"target\": df3[\"targets\"],\n",
    "    \"prediction\": df3[\"preds\"]\n",
    "})\n",
    "\n",
    "print(submission_df)\n",
    "print(\"=\" * 50)\n",
    "print(f\"Final RMSE: {rmse3}\")\n",
    "\n",
    "\n",
    "submission_df.to_csv(\"blanca_anastasia_submission.csv\", index=False)"
   ]
  }
 ],
 "metadata": {
  "kernelspec": {
   "display_name": "forecasting_1",
   "language": "python",
   "name": "python3"
  },
  "language_info": {
   "codemirror_mode": {
    "name": "ipython",
    "version": 3
   },
   "file_extension": ".py",
   "mimetype": "text/x-python",
   "name": "python",
   "nbconvert_exporter": "python",
   "pygments_lexer": "ipython3",
   "version": "3.11.12"
  }
 },
 "nbformat": 4,
 "nbformat_minor": 5
}
